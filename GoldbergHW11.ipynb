{
 "cells": [
  {
   "cell_type": "code",
   "execution_count": 2,
   "metadata": {
    "collapsed": true
   },
   "outputs": [],
   "source": [
    "import pandas as pd\n",
    "import numpy as np"
   ]
  },
  {
   "cell_type": "code",
   "execution_count": 3,
   "metadata": {
    "collapsed": true
   },
   "outputs": [],
   "source": [
    "#retrieve dataset, return separate percent change dataframe\n",
    "def getData(url):\n",
    "    data = pd.read_csv(url, header = 'infer')\n",
    "    data = data.rename(columns={'Unnamed: 2': 'PercentChange'})\n",
    "    PerChange = pd.Series(data['PercentChange'][1:], dtype = np.float64)\n",
    "    return data, PerChange"
   ]
  },
  {
   "cell_type": "code",
   "execution_count": 8,
   "metadata": {
    "collapsed": true
   },
   "outputs": [],
   "source": [
    "#create Gaussian randomized numerical sequence\n",
    "def gaussrandom(perchange, randcount):\n",
    "    PerChangeSTD = perchange.std()\n",
    "    PerChangeMean = perchange.mean()\n",
    "    GaussRand = np.random.normal(PerChangeMean, PerChangeSTD, randcount)\n",
    "    return GaussRand"
   ]
  },
  {
   "cell_type": "code",
   "execution_count": 4,
   "metadata": {
    "collapsed": true
   },
   "outputs": [],
   "source": [
    "#multiply Gauss randomize sequence with final price to get price change\n",
    "def finalprice(data, perchange, gaussrand, randcount):\n",
    "    lastprice = data['Last'].tail(1)\n",
    "    for rand in gaussrand:\n",
    "        lastprice += (rand * lastprice)\n",
    "    return lastprice"
   ]
  },
  {
   "cell_type": "code",
   "execution_count": 5,
   "metadata": {
    "collapsed": true
   },
   "outputs": [],
   "source": [
    "#combine functions to calculate 1% lowest percentile to repsent VaR with 99% confidence\n",
    "def VaR(loopnum, randcount):\n",
    "    storedprices = pd.Series()\n",
    "    perchange = getData(url)[1]\n",
    "    data = getData(url)[0]\n",
    "    while loopnum:\n",
    "        gaussrand = gaussrandom(perchange, randcount)\n",
    "        storedprices = storedprices.append(finalprice(data, perchange, gaussrand, randcount))\n",
    "        loopnum -=1\n",
    "    return storedprices.quantile(.1)"
   ]
  },
  {
   "cell_type": "code",
   "execution_count": 12,
   "metadata": {
    "collapsed": false
   },
   "outputs": [
    {
     "name": "stdout",
     "output_type": "stream",
     "text": [
      "374.684589806\n"
     ]
    }
   ],
   "source": [
    "if __name__ == '__main__':\n",
    "    url = 'https://raw.githubusercontent.com/aagoldberg/Cuny/master/apple.2011.csv'\n",
    "    print VaR(1000, 20)"
   ]
  }
 ],
 "metadata": {
  "kernelspec": {
   "display_name": "Python 2",
   "language": "python",
   "name": "python2"
  },
  "language_info": {
   "codemirror_mode": {
    "name": "ipython",
    "version": 2
   },
   "file_extension": ".py",
   "mimetype": "text/x-python",
   "name": "python",
   "nbconvert_exporter": "python",
   "pygments_lexer": "ipython2",
   "version": "2.7.11"
  }
 },
 "nbformat": 4,
 "nbformat_minor": 0
}
